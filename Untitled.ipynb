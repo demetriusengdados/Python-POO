{
 "cells": [
  {
   "cell_type": "code",
   "execution_count": null,
   "metadata": {},
   "outputs": [],
   "source": [
    "nome = 'Demetrius'\n",
    "idade = 30\n",
    "altura = 1.66\n",
    "peso = 79\n",
    "ano_atual = 2020\n",
    "nascimento = ano_atual - idade\n",
    "imc = peso / (altura ** 2)\n",
    "\n",
    "print(f'{nome} tem {idade} anos e {altura} de altura.')\n",
    "print(f'{nome} pesa {peso} e seu Imc é {imc:.2f}')\n",
    "pri=nt"
   ]
  }
 ],
 "metadata": {
  "kernelspec": {
   "display_name": "Python 3",
   "language": "python",
   "name": "python3"
  },
  "language_info": {
   "codemirror_mode": {
    "name": "ipython",
    "version": 3
   },
   "file_extension": ".py",
   "mimetype": "text/x-python",
   "name": "python",
   "nbconvert_exporter": "python",
   "pygments_lexer": "ipython3",
   "version": "3.7.6"
  }
 },
 "nbformat": 4,
 "nbformat_minor": 4
}
