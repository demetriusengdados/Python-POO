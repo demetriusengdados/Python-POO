{
 "cells": [
  {
   "cell_type": "code",
   "execution_count": 1,
   "metadata": {},
   "outputs": [],
   "source": [
    "import os \n",
    "from PIL import Image"
   ]
  },
  {
   "cell_type": "code",
   "execution_count": 5,
   "metadata": {},
   "outputs": [
    {
     "name": "stdout",
     "output_type": "stream",
     "text": [
      "EiKknQrXYAEiT-C_CONVERTED.jpeg\n",
      "xvideos.com_1741258280076a871e0d11d4fb434c21(1)_CONVERTED.mp4\n",
      "EmRByW8WMAA81EF_CONVERTED.jpeg\n",
      "EnIE3sZXIAIOy2y_CONVERTED.jpeg\n",
      "xvideos.com_a76e323f2479070f0e8557b6c685def8_CONVERTED.mp4\n",
      "xvideos.com_629213a8d70edf4b72e749f92b0c86d8_CONVERTED.mp4\n",
      "EiowIISWkAIExOZ_CONVERTED.jpeg\n",
      "xvideos.com_348b7411060e2c881ca8cb5188a0d979_CONVERTED.mp4\n",
      "EguBEdyWkAAreKV_CONVERTED.jpeg\n",
      "EiKknQoWAAEoi7V_CONVERTED.jpeg\n",
      "Eiy1JqVX0AMceoO_CONVERTED.jpeg\n",
      "xvideos.com_ef3ea802e7d68b411edb8b2258873c6c_CONVERTED.mp4\n",
      "Enb4EqIW8AgI5nU_CONVERTED.jpeg\n",
      "xvideos.com_ff0a4a808dfdeb6af53829010ecb96ad_CONVERTED.mp4\n",
      "Eh1gJlfX0AE4ZY8_CONVERTED.jpeg\n",
      "EnIE3I_XYAE3wZd_CONVERTED.jpeg\n",
      ",_CONVERTED.jpeg\n",
      "EiX8bruWAAYgI2t_CONVERTED.jpeg\n",
      "EiiT-IsX0AQX0zK_CONVERTED.jpeg\n",
      "xvideos.com_d2a88b2ce18b56968ef84d3dc2e95ac3_CONVERTED.mp4\n",
      "EpcubExUwAElRJT_CONVERTED.jpeg\n",
      "EpxqQmzW8AYg6Zv_CONVERTED.jpeg\n",
      "xvideos.com_5155b662c0d10faacdf6335cbbe9486b_CONVERTED.mp4\n"
     ]
    }
   ],
   "source": [
    "def main(main_images_folder):\n",
    "    if not os.path.isdir(main_images_folder):\n",
    "        raise NotADirectoryError(f'{main_images_folder} não existe')\n",
    "        \n",
    "    for root, dirs, files in os.walk(main_images_folder):\n",
    "        for file in files:\n",
    "            file_full_path = os.path.join(root, file)\n",
    "            file_name, extension = os.path.splitext(file)\n",
    "            new_file = file_name + '_CONVERTED' + extension\n",
    "            print(new_file)\n",
    "        \n",
    "if __name__ == '__main__':\n",
    "    main_images_folder = '/home/demetrius/Imagens/Videos'\n",
    "    main(main_images_folder)"
   ]
  },
  {
   "cell_type": "code",
   "execution_count": null,
   "metadata": {},
   "outputs": [],
   "source": []
  }
 ],
 "metadata": {
  "kernelspec": {
   "display_name": "Python 3",
   "language": "python",
   "name": "python3"
  },
  "language_info": {
   "codemirror_mode": {
    "name": "ipython",
    "version": 3
   },
   "file_extension": ".py",
   "mimetype": "text/x-python",
   "name": "python",
   "nbconvert_exporter": "python",
   "pygments_lexer": "ipython3",
   "version": "3.8.3"
  }
 },
 "nbformat": 4,
 "nbformat_minor": 4
}
