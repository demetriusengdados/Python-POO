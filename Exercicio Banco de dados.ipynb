{
 "cells": [
  {
   "cell_type": "code",
   "execution_count": null,
   "metadata": {},
   "outputs": [],
   "source": [
    "-- 1) Insira 5 usuários\n",
    "INSERT INTO users (first_name, last_name, email, password_hash) VALUES\n",
    "('Maria', 'Miranda', 'email1@a.com', round(rand()  * 100000)),\n",
    "('João', 'Figueiredo', 'email2@a.com', round(rand()  * 100000)),\n",
    "('Pablo', 'V.', 'email3@a.com', round(rand()  * 100000)),\n",
    "('Belchior', 'Moreira', 'email4@a.com', round(rand()  * 100000)),\n",
    "('Elis', 'Regina', 'email5@a.com', round(rand()  * 100000));\n",
    "\n",
    "UPDATE users set salary = round(rand()  * 100000, 2) WHERE id IN \n",
    "(624, 623, 622, 621, 620, 618);"
   ]
  },
  {
   "cell_type": "code",
   "execution_count": null,
   "metadata": {},
   "outputs": [],
   "source": [
    "-- 2) Insira 5 perfís para os usuários inseridos\n",
    "INSERT INTO profiles (bio, description, user_id) VALUES\n",
    "('Uma bio', 'Uma description', (select id from users where email = 'email1@a.com')),\n",
    "('Uma bio', 'Uma description', (select id from users where email = 'email2@a.com')),\n",
    "('Uma bio', 'Uma description', (select id from users where email = 'email3@a.com')),\n",
    "('Uma bio', 'Uma description', (select id from users where email = 'email4@a.com')),\n",
    "('Uma bio', 'Uma description', (select id from users where email = 'email5@a.com'));\n"
   ]
  },
  {
   "cell_type": "code",
   "execution_count": null,
   "metadata": {},
   "outputs": [],
   "source": [
    "-- 3) Insira permissões (roles) para os usuários inseridos\n",
    "insert into users_roles (user_id, role_id) values \n",
    "(\n",
    "\t(select id from users where email = 'email1@a.com'),\n",
    "\t(select id from roles where name = 'PUT')\n",
    "),\n",
    "(\n",
    "\t(select id from users where email = 'email2@a.com'),\n",
    "\t(select id from roles where name = 'PUT')\n",
    "),\n",
    "(\n",
    "\t(select id from users where email = 'email3@a.com'),\n",
    "\t(select id from roles where name = 'PUT')\n",
    "),\n",
    "(\n",
    "\t(select id from users where email = 'email4@a.com'),\n",
    "\t(select id from roles where name = 'PUT')\n",
    "),\n",
    "(\n",
    "\t(select id from users where email = 'email5@a.com'),\n",
    "\t(select id from roles where name = 'PUT')\n",
    "),\n",
    "(\n",
    "\t(select id from users where email = 'email5@a.com'),\n",
    "\t(select id from roles where name = 'POST')\n",
    "),\n",
    "(\n",
    "\t(select id from users where email = 'email5@a.com'),\n",
    "\t(select id from roles where name = 'GET')\n",
    ");"
   ]
  },
  {
   "cell_type": "code",
   "execution_count": null,
   "metadata": {},
   "outputs": [],
   "source": [
    "-- 4) Selecione os últimos 5 usuários por ordem decrescente\n",
    "SELECT * FROM users ORDER BY id DESC LIMIT 5;"
   ]
  },
  {
   "cell_type": "code",
   "execution_count": null,
   "metadata": {},
   "outputs": [],
   "source": [
    "-- 5) Atualize o último usuário inserido\n",
    "UPDATE users set first_name='Elis Regina', last_name='Atualizada' WHERE id = 624;"
   ]
  },
  {
   "cell_type": "code",
   "execution_count": null,
   "metadata": {},
   "outputs": [],
   "source": [
    "-- 6) Remova uma permissão de algum usuário\n",
    "delete \n",
    "-- select *\n",
    "from users_roles where\n",
    "user_id = (select id from users where email = 'email5@a.com') AND \n",
    "role_id = (select id from roles where name='POST');"
   ]
  },
  {
   "cell_type": "code",
   "execution_count": null,
   "metadata": {},
   "outputs": [],
   "source": [
    "-- 7) Remova um usuário que tem a permissão \"PUT\"\n",
    "-- SELECT u.id as uid, u.first_name, r.name\n",
    "delete u\n",
    "from users u\n",
    "inner join users_roles ur on u.id = ur.user_id \n",
    "inner join roles r on ur.role_id = r.id\n",
    "where r.name  = 'PUT' and u.id = 624;"
   ]
  },
  {
   "cell_type": "code",
   "execution_count": null,
   "metadata": {},
   "outputs": [],
   "source": [
    "-- 8) Selecione usuários com perfís e permissões (obrigatório)\n",
    "SELECT u.id as uid, u.first_name, r.name, p.bio \n",
    "from users u\n",
    "inner join users_roles ur on u.id = ur.user_id \n",
    "inner join roles r on ur.role_id = r.id\n",
    "inner join profiles p on p.user_id = u.id;"
   ]
  },
  {
   "cell_type": "code",
   "execution_count": null,
   "metadata": {},
   "outputs": [],
   "source": [
    "-- 9) Selecione usuários com perfís e permissões (opcional)\n",
    "SELECT u.id as uid, u.first_name, r.name, p.bio \n",
    "from users u\n",
    "left join users_roles ur on u.id = ur.user_id \n",
    "left join roles r on ur.role_id = r.id\n",
    "left join profiles p on p.user_id = u.id;"
   ]
  },
  {
   "cell_type": "code",
   "execution_count": null,
   "metadata": {},
   "outputs": [],
   "source": [
    "-- 10) Selecione usuários com perfís e permissões ordenando por salário\n",
    "SELECT u.id as uid, u.first_name, r.name, p.bio, u.salary \n",
    "from users u\n",
    "left join users_roles ur on u.id = ur.user_id \n",
    "left join roles r on ur.role_id = r.id\n",
    "left join profiles p on p.user_id = u.id\n",
    "order by u.salary ASC;"
   ]
  }
 ],
 "metadata": {
  "kernelspec": {
   "display_name": "Python 3",
   "language": "python",
   "name": "python3"
  },
  "language_info": {
   "codemirror_mode": {
    "name": "ipython",
    "version": 3
   },
   "file_extension": ".py",
   "mimetype": "text/x-python",
   "name": "python",
   "nbconvert_exporter": "python",
   "pygments_lexer": "ipython3",
   "version": "3.8.3"
  }
 },
 "nbformat": 4,
 "nbformat_minor": 4
}
