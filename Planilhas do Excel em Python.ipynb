{
 "cells": [
  {
   "cell_type": "code",
   "execution_count": 11,
   "metadata": {},
   "outputs": [],
   "source": [
    "import openpyxl\n",
    "from random import uniform"
   ]
  },
  {
   "cell_type": "code",
   "execution_count": 5,
   "metadata": {},
   "outputs": [
    {
     "name": "stdout",
     "output_type": "stream",
     "text": [
      "<Cell 'Página1'.B4>\n",
      "pedidoid_produtopreco\n",
      "1.01002.050.0\n",
      "2.01005.032.25\n",
      "3.01200.089.99\n"
     ]
    }
   ],
   "source": [
    "pedidos = openpyxl.load_workbook('pedidos.xlsx')\n",
    "pedidos.sheetnames\n",
    "planilha1 = pedidos['Página1']\n",
    "\n",
    "print(planilha1['b4'])\n",
    "\n",
    "for linha in planilha1:\n",
    "    if linha[0].value is not None:\n",
    "        print(linha[0].value, end='')\n",
    "    if linha[1].value is not None:\n",
    "        print(linha[1].value, end='')\n",
    "    if linha[2].value is not None:\n",
    "        print(linha[2].value)\n"
   ]
  },
  {
   "cell_type": "code",
   "execution_count": 14,
   "metadata": {},
   "outputs": [],
   "source": [
    "pedidos = openpyxl.load_workbook('pedidos.xlsx')\n",
    "pedidos.sheetnames\n",
    "planilha1 = pedidos['Página1']\n",
    "\n",
    "for linha in range(5,100):\n",
    "    numero_pedido = linha - 1\n",
    "    planilha1.cell(linha, 1).value = numero_pedido\n",
    "    planilha1.cell(linha, 2).value = 1200 + linha\n",
    "    preco = round(uniform(10,500),2)\n",
    "    planilha1.cell(linha, 3).value = preco\n",
    "\n",
    "pedidos.save('nova_planilha.xlsx')"
   ]
  },
  {
   "cell_type": "code",
   "execution_count": null,
   "metadata": {},
   "outputs": [],
   "source": []
  }
 ],
 "metadata": {
  "kernelspec": {
   "display_name": "Python 3",
   "language": "python",
   "name": "python3"
  },
  "language_info": {
   "codemirror_mode": {
    "name": "ipython",
    "version": 3
   },
   "file_extension": ".py",
   "mimetype": "text/x-python",
   "name": "python",
   "nbconvert_exporter": "python",
   "pygments_lexer": "ipython3",
   "version": "3.8.3"
  }
 },
 "nbformat": 4,
 "nbformat_minor": 4
}
