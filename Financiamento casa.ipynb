{
 "cells": [
  {
   "cell_type": "code",
   "execution_count": 1,
   "metadata": {},
   "outputs": [
    {
     "name": "stdout",
     "output_type": "stream",
     "text": [
      "Valor da casa: R$120000\n",
      "Salário do comprador: R$9800\n",
      "Quantos anos de financiamento? 5\n",
      "Para pagar a casa de R$120000.00 em 5 anos a prestação será de R$2000.00\n",
      "Empréstimo pode ser concedido!\n"
     ]
    }
   ],
   "source": [
    "casa = float(input('Valor da casa: R$'))\n",
    "salário = float(input('Salário do comprador: R$'))\n",
    "anos = int(input('Quantos anos de financiamento? '))\n",
    "prestação = casa / (anos * 12)\n",
    "minimo = salário * 30 / 100\n",
    "print('Para pagar a casa de R${:.2f} em {} anos'.format(casa, anos), end= '')\n",
    "print(' a prestação será de R${:.2f}'.format(prestação))\n",
    "if prestação <= minimo:\n",
    "    print('Empréstimo pode ser concedido!')\n",
    "else:\n",
    "    print('Empréstimo negado')"
   ]
  },
  {
   "cell_type": "code",
   "execution_count": null,
   "metadata": {},
   "outputs": [],
   "source": []
  }
 ],
 "metadata": {
  "kernelspec": {
   "display_name": "Python 3",
   "language": "python",
   "name": "python3"
  },
  "language_info": {
   "codemirror_mode": {
    "name": "ipython",
    "version": 3
   },
   "file_extension": ".py",
   "mimetype": "text/x-python",
   "name": "python",
   "nbconvert_exporter": "python",
   "pygments_lexer": "ipython3",
   "version": "3.7.6"
  }
 },
 "nbformat": 4,
 "nbformat_minor": 4
}
