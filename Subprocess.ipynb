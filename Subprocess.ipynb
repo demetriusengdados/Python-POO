{
 "cells": [
  {
   "cell_type": "code",
   "execution_count": 1,
   "metadata": {},
   "outputs": [],
   "source": [
    "import subprocess"
   ]
  },
  {
   "cell_type": "code",
   "execution_count": 13,
   "metadata": {},
   "outputs": [
    {
     "name": "stdout",
     "output_type": "stream",
     "text": [
      "PING 127.0.0.1 (127.0.0.1) 56(84) bytes of data.\n",
      "64 bytes from 127.0.0.1: Demetrius=1 ttl=64 time=0.066 ms\n",
      "64 bytes from 127.0.0.1: Demetrius=2 ttl=64 time=0.044 ms\n",
      "64 bytes from 127.0.0.1: Demetrius=3 ttl=64 time=0.066 ms\n",
      "64 bytes from 127.0.0.1: Demetrius=4 ttl=64 time=0.107 ms\n",
      "\n",
      "--- 127.0.0.1 ping statistics ---\n",
      "4 packets transmitted, 4 received, 0% packet loss, time 3075ms\n",
      "rtt min/avg/max/mdev = 0.044/0.070/0.107/0.022 ms\n",
      "\n"
     ]
    }
   ],
   "source": [
    "proc = subprocess.run(\n",
    "['ping', '127.0.0.1', '-c', '4'],\n",
    "capture_output=True,\n",
    "text=True\n",
    ")\n",
    "saida = proc.stdout\n",
    "saida = saida.replace('icmp_seq', 'Demetrius')\n",
    "print(saida)"
   ]
  },
  {
   "cell_type": "code",
   "execution_count": null,
   "metadata": {},
   "outputs": [],
   "source": []
  }
 ],
 "metadata": {
  "kernelspec": {
   "display_name": "Python 3",
   "language": "python",
   "name": "python3"
  },
  "language_info": {
   "codemirror_mode": {
    "name": "ipython",
    "version": 3
   },
   "file_extension": ".py",
   "mimetype": "text/x-python",
   "name": "python",
   "nbconvert_exporter": "python",
   "pygments_lexer": "ipython3",
   "version": "3.8.3"
  }
 },
 "nbformat": 4,
 "nbformat_minor": 4
}
