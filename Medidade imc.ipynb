{
 "cells": [
  {
   "cell_type": "code",
   "execution_count": 3,
   "metadata": {},
   "outputs": [
    {
     "name": "stdout",
     "output_type": "stream",
     "text": [
      "Qual seu peso?  Kg75\n",
      "Qual sua altura? m164\n",
      "O IMC dessa pessoa é 0.0\n",
      "Voce está abaixo do peso ideal\n"
     ]
    }
   ],
   "source": [
    "peso = float(input('Qual seu peso?  Kg'))\n",
    "altura = float(input('Qual sua altura? m'))\n",
    "imc = peso / (altura ** 2)\n",
    "print(f'O IMC dessa pessoa é {imc:.1f}')\n",
    "if imc < 18.5:\n",
    "    print('Voce está abaixo do peso ideal')\n",
    "elif 18.5 < imc < 25:\n",
    "    print('Voce está dentro do peso ideal')\n",
    "elif 25 < imc < 30:\n",
    "    print('Voce está com sobrepeso')\n",
    "elif 30 < imc < 40:\n",
    "    print('Voce esta com obesidade, cuidado')\n",
    "elif imc >= 40:\n",
    "    print('Voce esta com obesidade morbida')\n",
    "        "
   ]
  },
  {
   "cell_type": "code",
   "execution_count": null,
   "metadata": {},
   "outputs": [],
   "source": []
  }
 ],
 "metadata": {
  "kernelspec": {
   "display_name": "Python 3",
   "language": "python",
   "name": "python3"
  },
  "language_info": {
   "codemirror_mode": {
    "name": "ipython",
    "version": 3
   },
   "file_extension": ".py",
   "mimetype": "text/x-python",
   "name": "python",
   "nbconvert_exporter": "python",
   "pygments_lexer": "ipython3",
   "version": "3.7.6"
  }
 },
 "nbformat": 4,
 "nbformat_minor": 4
}
