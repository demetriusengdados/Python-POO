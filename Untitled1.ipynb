{
 "cells": [
  {
   "cell_type": "code",
   "execution_count": 1,
   "metadata": {},
   "outputs": [
    {
     "name": "stdout",
     "output_type": "stream",
     "text": [
      "Nome: Demetrius Magela da Mata\n",
      "Idade: 30\n",
      "Altura: 1.66\n",
      "É maior: True\n"
     ]
    }
   ],
   "source": [
    "nome = 'Demetrius Magela da Mata'\n",
    "idade = 30\n",
    "altura = 1.66\n",
    "e_maior = idade > 18\n",
    "\n",
    "print('Nome:', nome)\n",
    "print('Idade:', idade)\n",
    "print('Altura:', altura)\n",
    "print('É maior:', e_maior)\n"
   ]
  },
  {
   "cell_type": "code",
   "execution_count": null,
   "metadata": {},
   "outputs": [],
   "source": []
  }
 ],
 "metadata": {
  "kernelspec": {
   "display_name": "Python 3",
   "language": "python",
   "name": "python3"
  },
  "language_info": {
   "codemirror_mode": {
    "name": "ipython",
    "version": 3
   },
   "file_extension": ".py",
   "mimetype": "text/x-python",
   "name": "python",
   "nbconvert_exporter": "python",
   "pygments_lexer": "ipython3",
   "version": "3.7.6"
  }
 },
 "nbformat": 4,
 "nbformat_minor": 4
}
