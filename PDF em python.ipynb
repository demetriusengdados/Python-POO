{
 "cells": [
  {
   "cell_type": "code",
   "execution_count": 4,
   "metadata": {},
   "outputs": [],
   "source": [
    "import PyPDF2\n",
    "import os"
   ]
  },
  {
   "cell_type": "code",
   "execution_count": null,
   "metadata": {},
   "outputs": [],
   "source": [
    "caminho_dos_pdfs = 'pdf'\n",
    "\n",
    "novo_pdf = PyPDF2.PdfFileMerger()\n",
    "\n",
    "for root, dirs, files in os.walk(caminho_dos_pdfs):\n",
    "    for file in files:\n",
    "        caminho_completo_arquivo = os.path.join(root, file)\n",
    "        \n",
    "        arquivo_pdf = open(caminho_completo_arquivo, 'rb')\n",
    "        novo_pdf.append(arquivo_pdf)\n",
    "\n",
    "with open(f'{caminho_dos_pdfs}/novo_arquivo.pdf', 'wb') as meu_novo_pdf:\n",
    "    novo_pdf.write(meu_novo_pdf)"
   ]
  },
  {
   "cell_type": "code",
   "execution_count": null,
   "metadata": {},
   "outputs": [],
   "source": [
    "with open('pdf/novo_arquivo.pdf', 'rb') as arquivo_pdf:\n",
    "    leitor = PyPDF2.PdfFileReader()\n",
    "    num_paginas = leitot.getNumPages()\n",
    "    \n",
    "    for num_pagina in range(num_paginas):\n",
    "        print(num_pagina)\n",
    "        escrito = PyPdfFileWriter()\n",
    "        pagina_atual = leitor.getPage(num_pagina)\n",
    "        escritor.addPage(pagina_atual)\n",
    "        \n",
    "        with open(f'novos_pdfs/{num_pagina}.pdf', 'wb') as novo_pdf:\n",
    "            escritor.write(novo_pdf)"
   ]
  }
 ],
 "metadata": {
  "kernelspec": {
   "display_name": "Python 3",
   "language": "python",
   "name": "python3"
  },
  "language_info": {
   "codemirror_mode": {
    "name": "ipython",
    "version": 3
   },
   "file_extension": ".py",
   "mimetype": "text/x-python",
   "name": "python",
   "nbconvert_exporter": "python",
   "pygments_lexer": "ipython3",
   "version": "3.8.3"
  }
 },
 "nbformat": 4,
 "nbformat_minor": 4
}
