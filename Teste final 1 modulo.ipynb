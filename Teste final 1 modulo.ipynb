{
 "cells": [
  {
   "cell_type": "code",
   "execution_count": 1,
   "metadata": {},
   "outputs": [
    {
     "name": "stdout",
     "output_type": "stream",
     "text": [
      "Demetrius tem 30 anos e 1.66 de altura.\n",
      "Demetrius pesa 79 e seu Imc é 28.67\n",
      "Demetrius nasceu em 1990\n"
     ]
    }
   ],
   "source": [
    "nome = 'Demetrius'\n",
    "idade = 30\n",
    "altura = 1.66\n",
    "peso = 79\n",
    "ano_atual = 2020\n",
    "nascimento = ano_atual - idade\n",
    "imc = peso / (altura ** 2)\n",
    "\n",
    "print(f'{nome} tem {idade} anos e {altura} de altura.')\n",
    "print(f'{nome} pesa {peso} kg e seu Imc é {imc:.2f}')\n",
    "print(f'{nome} nasceu em {nascimento}')\n"
   ]
  },
  {
   "cell_type": "code",
   "execution_count": null,
   "metadata": {},
   "outputs": [],
   "source": [
    "\n"
   ]
  }
 ],
 "metadata": {
  "kernelspec": {
   "display_name": "Python 3",
   "language": "python",
   "name": "python3"
  },
  "language_info": {
   "codemirror_mode": {
    "name": "ipython",
    "version": 3
   },
   "file_extension": ".py",
   "mimetype": "text/x-python",
   "name": "python",
   "nbconvert_exporter": "python",
   "pygments_lexer": "ipython3",
   "version": "3.7.6"
  }
 },
 "nbformat": 4,
 "nbformat_minor": 4
}
