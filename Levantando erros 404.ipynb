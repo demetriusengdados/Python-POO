{
 "cells": [
  {
   "cell_type": "code",
   "execution_count": null,
   "metadata": {},
   "outputs": [],
   "source": [
    "from django.shorcurts import render\n",
    "from django.http import Http404\n",
    "from models import contato\n",
    "\n",
    "def index(request):\n",
    "    contatos = Contato.objects.all()\n",
    "    return render(request, 'contatos/index.html', { \n",
    "        'contatos': contatos\n",
    "    })\n",
    "\n",
    "def ver_contato(request, contato_id):\n",
    "    try:\n",
    "        contato = Contato.objects.get(id=contato_id)\n",
    "        return render(request, 'contato/ver_contato.html', {\n",
    "            'contato': contato\n",
    "        })\n",
    "    except Contato.DoesNotExists as e:\n",
    "        raise Http404()"
   ]
  }
 ],
 "metadata": {
  "kernelspec": {
   "display_name": "Python 3",
   "language": "python",
   "name": "python3"
  },
  "language_info": {
   "codemirror_mode": {
    "name": "ipython",
    "version": 3
   },
   "file_extension": ".py",
   "mimetype": "text/x-python",
   "name": "python",
   "nbconvert_exporter": "python",
   "pygments_lexer": "ipython3",
   "version": "3.8.3"
  }
 },
 "nbformat": 4,
 "nbformat_minor": 4
}
